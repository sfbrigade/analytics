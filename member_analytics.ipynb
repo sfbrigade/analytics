{
 "cells": [
  {
   "cell_type": "code",
   "execution_count": 44,
   "id": "ac651d5e",
   "metadata": {},
   "outputs": [],
   "source": [
    "import os\n",
    "import logging\n",
    "import pandas as pd\n",
    "from slack_sdk import WebClient  # Import WebClient from Python SDK (github.com/slackapi/python-slack-sdk)\n",
    "import time\n",
    "import matplotlib.pyplot as plt\n",
    "import numpy as np\n",
    "\n",
    "## Read Conversations\n",
    "\n",
    "conversations = pd.read_csv('~/workspace/analytics/data/conversations_history.csv')\n",
    "\n",
    "## Read Users\n",
    "\n",
    "users = pd.read_csv('~/workspace/analytics/data/user_list_data.csv')\n",
    "\n",
    "## Read Channels\n",
    "\n",
    "channels = pd.read_csv('~/workspace/analytics/data/channels.csv')\n",
    "\n"
   ]
  },
  {
   "cell_type": "code",
   "execution_count": 6,
   "id": "92ed85d4",
   "metadata": {},
   "outputs": [
    {
     "data": {
      "text/html": [
       "<div>\n",
       "<style scoped>\n",
       "    .dataframe tbody tr th:only-of-type {\n",
       "        vertical-align: middle;\n",
       "    }\n",
       "\n",
       "    .dataframe tbody tr th {\n",
       "        vertical-align: top;\n",
       "    }\n",
       "\n",
       "    .dataframe thead th {\n",
       "        text-align: right;\n",
       "    }\n",
       "</style>\n",
       "<table border=\"1\" class=\"dataframe\">\n",
       "  <thead>\n",
       "    <tr style=\"text-align: right;\">\n",
       "      <th></th>\n",
       "      <th>user</th>\n",
       "      <th>ts</th>\n",
       "    </tr>\n",
       "  </thead>\n",
       "  <tbody>\n",
       "    <tr>\n",
       "      <th>0</th>\n",
       "      <td>U02DL728MQR</td>\n",
       "      <td>2021-10-04 23:26:52.052299976</td>\n",
       "    </tr>\n",
       "    <tr>\n",
       "      <th>1</th>\n",
       "      <td>U02HB9WKA80</td>\n",
       "      <td>2021-10-04 23:23:08.041500092</td>\n",
       "    </tr>\n",
       "    <tr>\n",
       "      <th>2</th>\n",
       "      <td>U02GX9HUN8Y</td>\n",
       "      <td>2021-09-30 14:11:02.000200033</td>\n",
       "    </tr>\n",
       "    <tr>\n",
       "      <th>3</th>\n",
       "      <td>UJSRTPXV5</td>\n",
       "      <td>2021-09-30 06:31:24.031599997</td>\n",
       "    </tr>\n",
       "    <tr>\n",
       "      <th>4</th>\n",
       "      <td>UP84C9TU0</td>\n",
       "      <td>2021-09-30 05:02:02.029400110</td>\n",
       "    </tr>\n",
       "  </tbody>\n",
       "</table>\n",
       "</div>"
      ],
      "text/plain": [
       "          user                             ts\n",
       "0  U02DL728MQR  2021-10-04 23:26:52.052299976\n",
       "1  U02HB9WKA80  2021-10-04 23:23:08.041500092\n",
       "2  U02GX9HUN8Y  2021-09-30 14:11:02.000200033\n",
       "3    UJSRTPXV5  2021-09-30 06:31:24.031599997\n",
       "4    UP84C9TU0  2021-09-30 05:02:02.029400110"
      ]
     },
     "execution_count": 6,
     "metadata": {},
     "output_type": "execute_result"
    }
   ],
   "source": [
    "# Find Last 50 MActive Users\n",
    "\n",
    "conversations_max = conversations.groupby(['user'], as_index = False).agg({'ts':'max'})\n",
    "conversations_max.sort_values(by = 'ts', ascending = False, inplace = True)\n",
    "conversations_joined = pd.merge(conversations_max, users, how = 'left', left_on = ['user'], right_on = ['id'])\n",
    "\n",
    "conversations_joined[[\"user\", \"ts\"]].head()\n"
   ]
  },
  {
   "cell_type": "code",
   "execution_count": 51,
   "id": "abb53281",
   "metadata": {},
   "outputs": [
    {
     "name": "stderr",
     "output_type": "stream",
     "text": [
      "/var/folders/gb/vkkwn_y50qlcw8ck_mh4lbb00000gn/T/ipykernel_1372/1518412320.py:4: SettingWithCopyWarning: \n",
      "A value is trying to be set on a copy of a slice from a DataFrame.\n",
      "Try using .loc[row_indexer,col_indexer] = value instead\n",
      "\n",
      "See the caveats in the documentation: https://pandas.pydata.org/pandas-docs/stable/user_guide/indexing.html#returning-a-view-versus-a-copy\n",
      "  general_join['ts'] = pd.to_datetime(general_join['ts'])\n"
     ]
    },
    {
     "data": {
      "text/plain": [
       "<AxesSubplot:title={'center':'~10 members join per week'}, xlabel='ts'>"
      ]
     },
     "execution_count": 51,
     "metadata": {},
     "output_type": "execute_result"
    },
    {
     "data": {
      "image/png": "[encoded data removed]",
      "text/plain": [
       "<Figure size 432x288 with 1 Axes>"
      ]
     },
     "metadata": {
      "needs_background": "light"
     },
     "output_type": "display_data"
    }
   ],
   "source": [
    "# Weekly Joins to General\n",
    "\n",
    "general_join = conversations[(conversations['channel'] == 'C0431NL8L') & (conversations['text'].str.contains('join', na=False))]\n",
    "general_join['ts'] = pd.to_datetime(general_join['ts'])\n",
    "\n",
    "weekly = general_join.groupby([pd.Grouper(key='ts', freq='W-MON')])['user'].count().reset_index().sort_values(\"ts\", ascending = False)\n",
    "\n",
    "\n",
    "weekly_l12 = weekly[weekly[\"ts\"] > '2020-09-01']\n",
    "weekly_l12.plot(kind = 'line', x = 'ts', y = 'user', rot = 45, label = 'Members Joined', title = '~10 members join per week')\n"
   ]
  }
 ],
 "metadata": {
  "kernelspec": {
   "display_name": "Python 3 (ipykernel)",
   "language": "python",
   "name": "python3"
  },
  "language_info": {
   "codemirror_mode": {
    "name": "ipython",
    "version": 3
   },
   "file_extension": ".py",
   "mimetype": "text/x-python",
   "name": "python",
   "nbconvert_exporter": "python",
   "pygments_lexer": "ipython3",
   "version": "3.8.2"
  }
 },
 "nbformat": 4,
 "nbformat_minor": 5
}
